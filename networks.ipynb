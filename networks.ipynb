{
  "nbformat": 4,
  "nbformat_minor": 0,
  "metadata": {
    "colab": {
      "provenance": []
    },
    "kernelspec": {
      "name": "python3",
      "display_name": "Python 3"
    },
    "language_info": {
      "name": "python"
    }
  },
  "cells": [
    {
      "cell_type": "code",
      "execution_count": null,
      "metadata": {
        "id": "vxUsb0pErtwA"
      },
      "outputs": [],
      "source": [
        "import pandas as pd\n",
        "new_df = pd.read_csv(\"out1.csv\")"
      ]
    },
    {
      "cell_type": "code",
      "source": [
        "len(new_df['user_pseudo_id'].unique())"
      ],
      "metadata": {
        "colab": {
          "base_uri": "https://localhost:8080/"
        },
        "id": "2iAaEzw19-u9",
        "outputId": "a88fe01a-75bd-41d7-afb0-69f651b789b4"
      },
      "execution_count": null,
      "outputs": [
        {
          "output_type": "execute_result",
          "data": {
            "text/plain": [
              "110"
            ]
          },
          "metadata": {},
          "execution_count": 2
        }
      ]
    },
    {
      "cell_type": "code",
      "source": [
        "new_df = new_df[new_df.page_location!='/']\n",
        "new_df = new_df[new_df.page_location!='/docs/data']\n",
        "new_df = new_df[new_df.page_location!='/docs/visualization']\n",
        "new_df = new_df[new_df.page_location!='/docs/indented']\n",
        "new_df = new_df[new_df.page_location!='ufbeg']\n",
        "new_df = new_df[new_df.page_location!='xveafl']\n",
        "new_df = new_df[new_df.page_location!='Ure']"
      ],
      "metadata": {
        "id": "xcHTEE5WfP54"
      },
      "execution_count": null,
      "outputs": []
    },
    {
      "cell_type": "code",
      "source": [
        "new_df"
      ],
      "metadata": {
        "colab": {
          "base_uri": "https://localhost:8080/",
          "height": 696
        },
        "id": "KnmndVyQfVuP",
        "outputId": "87242025-727c-4e60-8ce2-e8402bf620e0"
      },
      "execution_count": null,
      "outputs": [
        {
          "output_type": "execute_result",
          "data": {
            "text/plain": [
              "       Unnamed: 0.1  Unnamed: 0  user_pseudo_id                    hostname  \\\n",
              "3                 3           3    1.932438e+09  hubmapconsortium.github.io   \n",
              "4                 4           4    1.932438e+09  hubmapconsortium.github.io   \n",
              "5                 5           5    1.932438e+09  hubmapconsortium.github.io   \n",
              "6                 6           6    1.932438e+09  hubmapconsortium.github.io   \n",
              "7                 7           7    1.932438e+09  hubmapconsortium.github.io   \n",
              "...             ...         ...             ...                         ...   \n",
              "17079         17079       17079    7.183522e+08  hubmapconsortium.github.io   \n",
              "17080         17080       17080    7.183522e+08  hubmapconsortium.github.io   \n",
              "17081         17081       17081    7.183522e+08  hubmapconsortium.github.io   \n",
              "17082         17082       17082    7.183522e+08  hubmapconsortium.github.io   \n",
              "17083         17083       17083    7.183522e+08  hubmapconsortium.github.io   \n",
              "\n",
              "      page_location  event_date user_first_touch_timestamp  \\\n",
              "3              Knee    20230208        2022-09-30 02:25:56   \n",
              "4              Knee    20230208        2022-09-30 02:25:56   \n",
              "5              Knee    20230208        2022-09-30 02:25:56   \n",
              "6              Knee    20230208        2022-09-30 02:25:56   \n",
              "7              Knee    20230208        2022-09-30 02:25:56   \n",
              "...             ...         ...                        ...   \n",
              "17079          skin    20221211         1666139579900741.0   \n",
              "17080          skin    20221211         1666139579900741.0   \n",
              "17081          skin    20221211         1666139579900741.0   \n",
              "17082          skin    20221211         1666139579900741.0   \n",
              "17083          skin    20221211         1666139579900741.0   \n",
              "\n",
              "           event_timestamp event_name event_category  \\\n",
              "3      2023-02-08 14:58:12  page_view            NaN   \n",
              "4      2023-02-08 14:58:12    webpage      mousemove   \n",
              "5      2023-02-08 14:58:18  page_view            NaN   \n",
              "6      2023-02-08 14:58:18    webpage      mousemove   \n",
              "7      2023-02-08 14:58:18    webpage      mousemove   \n",
              "...                    ...        ...            ...   \n",
              "17079  2022-12-12 02:17:21  page_view            NaN   \n",
              "17080  2022-12-12 02:17:21     scroll            NaN   \n",
              "17081  2022-12-12 02:17:21      input     comparison   \n",
              "17082  2022-12-12 02:17:21    webpage      mousemove   \n",
              "17083  2022-12-12 02:17:21    webpage      mousemove   \n",
              "\n",
              "                                             event_label       Dates  \\\n",
              "3                                                    NaN  2023-02-08   \n",
              "4                                       831_363_1366_625  2023-02-08   \n",
              "5                                                    NaN  2023-02-08   \n",
              "6                                       838_341_1366_625  2023-02-08   \n",
              "7                                         471_6_1366_625  2023-02-08   \n",
              "...                                                  ...         ...   \n",
              "17079                                                NaN  2022-12-12   \n",
              "17080                                                NaN  2022-12-12   \n",
              "17081  Adding sheet or file to Compare: {\"sheetName\":...  2022-12-12   \n",
              "17082                                  704_681_1920_1057  2022-12-12   \n",
              "17083                                      0_0_1920_1057  2022-12-12   \n",
              "\n",
              "           Time  Hour  \n",
              "3      14:58:12    14  \n",
              "4      14:58:12    14  \n",
              "5      14:58:18    14  \n",
              "6      14:58:18    14  \n",
              "7      14:58:18    14  \n",
              "...         ...   ...  \n",
              "17079  02:17:21     2  \n",
              "17080  02:17:21     2  \n",
              "17081  02:17:21     2  \n",
              "17082  02:17:21     2  \n",
              "17083  02:17:21     2  \n",
              "\n",
              "[16740 rows x 14 columns]"
            ],
            "text/html": [
              "\n",
              "  <div id=\"df-f2201c2b-989a-4d0d-8084-3ca515ffc0aa\">\n",
              "    <div class=\"colab-df-container\">\n",
              "      <div>\n",
              "<style scoped>\n",
              "    .dataframe tbody tr th:only-of-type {\n",
              "        vertical-align: middle;\n",
              "    }\n",
              "\n",
              "    .dataframe tbody tr th {\n",
              "        vertical-align: top;\n",
              "    }\n",
              "\n",
              "    .dataframe thead th {\n",
              "        text-align: right;\n",
              "    }\n",
              "</style>\n",
              "<table border=\"1\" class=\"dataframe\">\n",
              "  <thead>\n",
              "    <tr style=\"text-align: right;\">\n",
              "      <th></th>\n",
              "      <th>Unnamed: 0.1</th>\n",
              "      <th>Unnamed: 0</th>\n",
              "      <th>user_pseudo_id</th>\n",
              "      <th>hostname</th>\n",
              "      <th>page_location</th>\n",
              "      <th>event_date</th>\n",
              "      <th>user_first_touch_timestamp</th>\n",
              "      <th>event_timestamp</th>\n",
              "      <th>event_name</th>\n",
              "      <th>event_category</th>\n",
              "      <th>event_label</th>\n",
              "      <th>Dates</th>\n",
              "      <th>Time</th>\n",
              "      <th>Hour</th>\n",
              "    </tr>\n",
              "  </thead>\n",
              "  <tbody>\n",
              "    <tr>\n",
              "      <th>3</th>\n",
              "      <td>3</td>\n",
              "      <td>3</td>\n",
              "      <td>1.932438e+09</td>\n",
              "      <td>hubmapconsortium.github.io</td>\n",
              "      <td>Knee</td>\n",
              "      <td>20230208</td>\n",
              "      <td>2022-09-30 02:25:56</td>\n",
              "      <td>2023-02-08 14:58:12</td>\n",
              "      <td>page_view</td>\n",
              "      <td>NaN</td>\n",
              "      <td>NaN</td>\n",
              "      <td>2023-02-08</td>\n",
              "      <td>14:58:12</td>\n",
              "      <td>14</td>\n",
              "    </tr>\n",
              "    <tr>\n",
              "      <th>4</th>\n",
              "      <td>4</td>\n",
              "      <td>4</td>\n",
              "      <td>1.932438e+09</td>\n",
              "      <td>hubmapconsortium.github.io</td>\n",
              "      <td>Knee</td>\n",
              "      <td>20230208</td>\n",
              "      <td>2022-09-30 02:25:56</td>\n",
              "      <td>2023-02-08 14:58:12</td>\n",
              "      <td>webpage</td>\n",
              "      <td>mousemove</td>\n",
              "      <td>831_363_1366_625</td>\n",
              "      <td>2023-02-08</td>\n",
              "      <td>14:58:12</td>\n",
              "      <td>14</td>\n",
              "    </tr>\n",
              "    <tr>\n",
              "      <th>5</th>\n",
              "      <td>5</td>\n",
              "      <td>5</td>\n",
              "      <td>1.932438e+09</td>\n",
              "      <td>hubmapconsortium.github.io</td>\n",
              "      <td>Knee</td>\n",
              "      <td>20230208</td>\n",
              "      <td>2022-09-30 02:25:56</td>\n",
              "      <td>2023-02-08 14:58:18</td>\n",
              "      <td>page_view</td>\n",
              "      <td>NaN</td>\n",
              "      <td>NaN</td>\n",
              "      <td>2023-02-08</td>\n",
              "      <td>14:58:18</td>\n",
              "      <td>14</td>\n",
              "    </tr>\n",
              "    <tr>\n",
              "      <th>6</th>\n",
              "      <td>6</td>\n",
              "      <td>6</td>\n",
              "      <td>1.932438e+09</td>\n",
              "      <td>hubmapconsortium.github.io</td>\n",
              "      <td>Knee</td>\n",
              "      <td>20230208</td>\n",
              "      <td>2022-09-30 02:25:56</td>\n",
              "      <td>2023-02-08 14:58:18</td>\n",
              "      <td>webpage</td>\n",
              "      <td>mousemove</td>\n",
              "      <td>838_341_1366_625</td>\n",
              "      <td>2023-02-08</td>\n",
              "      <td>14:58:18</td>\n",
              "      <td>14</td>\n",
              "    </tr>\n",
              "    <tr>\n",
              "      <th>7</th>\n",
              "      <td>7</td>\n",
              "      <td>7</td>\n",
              "      <td>1.932438e+09</td>\n",
              "      <td>hubmapconsortium.github.io</td>\n",
              "      <td>Knee</td>\n",
              "      <td>20230208</td>\n",
              "      <td>2022-09-30 02:25:56</td>\n",
              "      <td>2023-02-08 14:58:18</td>\n",
              "      <td>webpage</td>\n",
              "      <td>mousemove</td>\n",
              "      <td>471_6_1366_625</td>\n",
              "      <td>2023-02-08</td>\n",
              "      <td>14:58:18</td>\n",
              "      <td>14</td>\n",
              "    </tr>\n",
              "    <tr>\n",
              "      <th>...</th>\n",
              "      <td>...</td>\n",
              "      <td>...</td>\n",
              "      <td>...</td>\n",
              "      <td>...</td>\n",
              "      <td>...</td>\n",
              "      <td>...</td>\n",
              "      <td>...</td>\n",
              "      <td>...</td>\n",
              "      <td>...</td>\n",
              "      <td>...</td>\n",
              "      <td>...</td>\n",
              "      <td>...</td>\n",
              "      <td>...</td>\n",
              "      <td>...</td>\n",
              "    </tr>\n",
              "    <tr>\n",
              "      <th>17079</th>\n",
              "      <td>17079</td>\n",
              "      <td>17079</td>\n",
              "      <td>7.183522e+08</td>\n",
              "      <td>hubmapconsortium.github.io</td>\n",
              "      <td>skin</td>\n",
              "      <td>20221211</td>\n",
              "      <td>1666139579900741.0</td>\n",
              "      <td>2022-12-12 02:17:21</td>\n",
              "      <td>page_view</td>\n",
              "      <td>NaN</td>\n",
              "      <td>NaN</td>\n",
              "      <td>2022-12-12</td>\n",
              "      <td>02:17:21</td>\n",
              "      <td>2</td>\n",
              "    </tr>\n",
              "    <tr>\n",
              "      <th>17080</th>\n",
              "      <td>17080</td>\n",
              "      <td>17080</td>\n",
              "      <td>7.183522e+08</td>\n",
              "      <td>hubmapconsortium.github.io</td>\n",
              "      <td>skin</td>\n",
              "      <td>20221211</td>\n",
              "      <td>1666139579900741.0</td>\n",
              "      <td>2022-12-12 02:17:21</td>\n",
              "      <td>scroll</td>\n",
              "      <td>NaN</td>\n",
              "      <td>NaN</td>\n",
              "      <td>2022-12-12</td>\n",
              "      <td>02:17:21</td>\n",
              "      <td>2</td>\n",
              "    </tr>\n",
              "    <tr>\n",
              "      <th>17081</th>\n",
              "      <td>17081</td>\n",
              "      <td>17081</td>\n",
              "      <td>7.183522e+08</td>\n",
              "      <td>hubmapconsortium.github.io</td>\n",
              "      <td>skin</td>\n",
              "      <td>20221211</td>\n",
              "      <td>1666139579900741.0</td>\n",
              "      <td>2022-12-12 02:17:21</td>\n",
              "      <td>input</td>\n",
              "      <td>comparison</td>\n",
              "      <td>Adding sheet or file to Compare: {\"sheetName\":...</td>\n",
              "      <td>2022-12-12</td>\n",
              "      <td>02:17:21</td>\n",
              "      <td>2</td>\n",
              "    </tr>\n",
              "    <tr>\n",
              "      <th>17082</th>\n",
              "      <td>17082</td>\n",
              "      <td>17082</td>\n",
              "      <td>7.183522e+08</td>\n",
              "      <td>hubmapconsortium.github.io</td>\n",
              "      <td>skin</td>\n",
              "      <td>20221211</td>\n",
              "      <td>1666139579900741.0</td>\n",
              "      <td>2022-12-12 02:17:21</td>\n",
              "      <td>webpage</td>\n",
              "      <td>mousemove</td>\n",
              "      <td>704_681_1920_1057</td>\n",
              "      <td>2022-12-12</td>\n",
              "      <td>02:17:21</td>\n",
              "      <td>2</td>\n",
              "    </tr>\n",
              "    <tr>\n",
              "      <th>17083</th>\n",
              "      <td>17083</td>\n",
              "      <td>17083</td>\n",
              "      <td>7.183522e+08</td>\n",
              "      <td>hubmapconsortium.github.io</td>\n",
              "      <td>skin</td>\n",
              "      <td>20221211</td>\n",
              "      <td>1666139579900741.0</td>\n",
              "      <td>2022-12-12 02:17:21</td>\n",
              "      <td>webpage</td>\n",
              "      <td>mousemove</td>\n",
              "      <td>0_0_1920_1057</td>\n",
              "      <td>2022-12-12</td>\n",
              "      <td>02:17:21</td>\n",
              "      <td>2</td>\n",
              "    </tr>\n",
              "  </tbody>\n",
              "</table>\n",
              "<p>16740 rows × 14 columns</p>\n",
              "</div>\n",
              "      <button class=\"colab-df-convert\" onclick=\"convertToInteractive('df-f2201c2b-989a-4d0d-8084-3ca515ffc0aa')\"\n",
              "              title=\"Convert this dataframe to an interactive table.\"\n",
              "              style=\"display:none;\">\n",
              "        \n",
              "  <svg xmlns=\"http://www.w3.org/2000/svg\" height=\"24px\"viewBox=\"0 0 24 24\"\n",
              "       width=\"24px\">\n",
              "    <path d=\"M0 0h24v24H0V0z\" fill=\"none\"/>\n",
              "    <path d=\"M18.56 5.44l.94 2.06.94-2.06 2.06-.94-2.06-.94-.94-2.06-.94 2.06-2.06.94zm-11 1L8.5 8.5l.94-2.06 2.06-.94-2.06-.94L8.5 2.5l-.94 2.06-2.06.94zm10 10l.94 2.06.94-2.06 2.06-.94-2.06-.94-.94-2.06-.94 2.06-2.06.94z\"/><path d=\"M17.41 7.96l-1.37-1.37c-.4-.4-.92-.59-1.43-.59-.52 0-1.04.2-1.43.59L10.3 9.45l-7.72 7.72c-.78.78-.78 2.05 0 2.83L4 21.41c.39.39.9.59 1.41.59.51 0 1.02-.2 1.41-.59l7.78-7.78 2.81-2.81c.8-.78.8-2.07 0-2.86zM5.41 20L4 18.59l7.72-7.72 1.47 1.35L5.41 20z\"/>\n",
              "  </svg>\n",
              "      </button>\n",
              "      \n",
              "  <style>\n",
              "    .colab-df-container {\n",
              "      display:flex;\n",
              "      flex-wrap:wrap;\n",
              "      gap: 12px;\n",
              "    }\n",
              "\n",
              "    .colab-df-convert {\n",
              "      background-color: #E8F0FE;\n",
              "      border: none;\n",
              "      border-radius: 50%;\n",
              "      cursor: pointer;\n",
              "      display: none;\n",
              "      fill: #1967D2;\n",
              "      height: 32px;\n",
              "      padding: 0 0 0 0;\n",
              "      width: 32px;\n",
              "    }\n",
              "\n",
              "    .colab-df-convert:hover {\n",
              "      background-color: #E2EBFA;\n",
              "      box-shadow: 0px 1px 2px rgba(60, 64, 67, 0.3), 0px 1px 3px 1px rgba(60, 64, 67, 0.15);\n",
              "      fill: #174EA6;\n",
              "    }\n",
              "\n",
              "    [theme=dark] .colab-df-convert {\n",
              "      background-color: #3B4455;\n",
              "      fill: #D2E3FC;\n",
              "    }\n",
              "\n",
              "    [theme=dark] .colab-df-convert:hover {\n",
              "      background-color: #434B5C;\n",
              "      box-shadow: 0px 1px 3px 1px rgba(0, 0, 0, 0.15);\n",
              "      filter: drop-shadow(0px 1px 2px rgba(0, 0, 0, 0.3));\n",
              "      fill: #FFFFFF;\n",
              "    }\n",
              "  </style>\n",
              "\n",
              "      <script>\n",
              "        const buttonEl =\n",
              "          document.querySelector('#df-f2201c2b-989a-4d0d-8084-3ca515ffc0aa button.colab-df-convert');\n",
              "        buttonEl.style.display =\n",
              "          google.colab.kernel.accessAllowed ? 'block' : 'none';\n",
              "\n",
              "        async function convertToInteractive(key) {\n",
              "          const element = document.querySelector('#df-f2201c2b-989a-4d0d-8084-3ca515ffc0aa');\n",
              "          const dataTable =\n",
              "            await google.colab.kernel.invokeFunction('convertToInteractive',\n",
              "                                                     [key], {});\n",
              "          if (!dataTable) return;\n",
              "\n",
              "          const docLinkHtml = 'Like what you see? Visit the ' +\n",
              "            '<a target=\"_blank\" href=https://colab.research.google.com/notebooks/data_table.ipynb>data table notebook</a>'\n",
              "            + ' to learn more about interactive tables.';\n",
              "          element.innerHTML = '';\n",
              "          dataTable['output_type'] = 'display_data';\n",
              "          await google.colab.output.renderOutput(dataTable, element);\n",
              "          const docLink = document.createElement('div');\n",
              "          docLink.innerHTML = docLinkHtml;\n",
              "          element.appendChild(docLink);\n",
              "        }\n",
              "      </script>\n",
              "    </div>\n",
              "  </div>\n",
              "  "
            ]
          },
          "metadata": {},
          "execution_count": 4
        }
      ]
    },
    {
      "cell_type": "code",
      "source": [
        "!pip install pyvis==0.3.1 "
      ],
      "metadata": {
        "colab": {
          "base_uri": "https://localhost:8080/"
        },
        "id": "BH2JuARBsLpm",
        "outputId": "c3c2895d-4bba-45aa-94de-07418bf17fc5"
      },
      "execution_count": null,
      "outputs": [
        {
          "output_type": "stream",
          "name": "stdout",
          "text": [
            "Looking in indexes: https://pypi.org/simple, https://us-python.pkg.dev/colab-wheels/public/simple/\n",
            "Collecting pyvis==0.3.1\n",
            "  Downloading pyvis-0.3.1.tar.gz (748 kB)\n",
            "\u001b[2K     \u001b[90m━━━━━━━━━━━━━━━━━━━━━━━━━━━━━━━━━━━━━━\u001b[0m \u001b[32m748.9/748.9 KB\u001b[0m \u001b[31m26.8 MB/s\u001b[0m eta \u001b[36m0:00:00\u001b[0m\n",
            "\u001b[?25h  Preparing metadata (setup.py) ... \u001b[?25l\u001b[?25hdone\n",
            "Requirement already satisfied: jinja2>=2.9.6 in /usr/local/lib/python3.9/dist-packages (from pyvis==0.3.1) (3.1.2)\n",
            "Requirement already satisfied: networkx>=1.11 in /usr/local/lib/python3.9/dist-packages (from pyvis==0.3.1) (3.0)\n",
            "Requirement already satisfied: ipython>=5.3.0 in /usr/local/lib/python3.9/dist-packages (from pyvis==0.3.1) (7.34.0)\n",
            "Requirement already satisfied: jsonpickle>=1.4.1 in /usr/local/lib/python3.9/dist-packages (from pyvis==0.3.1) (3.0.1)\n",
            "Requirement already satisfied: setuptools>=18.5 in /usr/local/lib/python3.9/dist-packages (from ipython>=5.3.0->pyvis==0.3.1) (67.6.1)\n",
            "Requirement already satisfied: pexpect>4.3 in /usr/local/lib/python3.9/dist-packages (from ipython>=5.3.0->pyvis==0.3.1) (4.8.0)\n",
            "Requirement already satisfied: decorator in /usr/local/lib/python3.9/dist-packages (from ipython>=5.3.0->pyvis==0.3.1) (4.4.2)\n",
            "Requirement already satisfied: pickleshare in /usr/local/lib/python3.9/dist-packages (from ipython>=5.3.0->pyvis==0.3.1) (0.7.5)\n",
            "Requirement already satisfied: backcall in /usr/local/lib/python3.9/dist-packages (from ipython>=5.3.0->pyvis==0.3.1) (0.2.0)\n",
            "Requirement already satisfied: prompt-toolkit!=3.0.0,!=3.0.1,<3.1.0,>=2.0.0 in /usr/local/lib/python3.9/dist-packages (from ipython>=5.3.0->pyvis==0.3.1) (3.0.38)\n",
            "Requirement already satisfied: matplotlib-inline in /usr/local/lib/python3.9/dist-packages (from ipython>=5.3.0->pyvis==0.3.1) (0.1.6)\n",
            "Requirement already satisfied: traitlets>=4.2 in /usr/local/lib/python3.9/dist-packages (from ipython>=5.3.0->pyvis==0.3.1) (5.7.1)\n",
            "Requirement already satisfied: pygments in /usr/local/lib/python3.9/dist-packages (from ipython>=5.3.0->pyvis==0.3.1) (2.14.0)\n",
            "Collecting jedi>=0.16\n",
            "  Downloading jedi-0.18.2-py2.py3-none-any.whl (1.6 MB)\n",
            "\u001b[2K     \u001b[90m━━━━━━━━━━━━━━━━━━━━━━━━━━━━━━━━━━━━━━━━\u001b[0m \u001b[32m1.6/1.6 MB\u001b[0m \u001b[31m76.2 MB/s\u001b[0m eta \u001b[36m0:00:00\u001b[0m\n",
            "\u001b[?25hRequirement already satisfied: MarkupSafe>=2.0 in /usr/local/lib/python3.9/dist-packages (from jinja2>=2.9.6->pyvis==0.3.1) (2.1.2)\n",
            "Requirement already satisfied: parso<0.9.0,>=0.8.0 in /usr/local/lib/python3.9/dist-packages (from jedi>=0.16->ipython>=5.3.0->pyvis==0.3.1) (0.8.3)\n",
            "Requirement already satisfied: ptyprocess>=0.5 in /usr/local/lib/python3.9/dist-packages (from pexpect>4.3->ipython>=5.3.0->pyvis==0.3.1) (0.7.0)\n",
            "Requirement already satisfied: wcwidth in /usr/local/lib/python3.9/dist-packages (from prompt-toolkit!=3.0.0,!=3.0.1,<3.1.0,>=2.0.0->ipython>=5.3.0->pyvis==0.3.1) (0.2.6)\n",
            "Building wheels for collected packages: pyvis\n",
            "  Building wheel for pyvis (setup.py) ... \u001b[?25l\u001b[?25hdone\n",
            "  Created wheel for pyvis: filename=pyvis-0.3.1-py3-none-any.whl size=755848 sha256=aaad3238193ed622237cf1a6f6ea96a6ca984217f6ab4943eb1695c79a92d158\n",
            "  Stored in directory: /root/.cache/pip/wheels/55/7b/4b/dc896cf96ad07e0dc92d30e1984ab583c0d0feec208756e2b2\n",
            "Successfully built pyvis\n",
            "Installing collected packages: jedi, pyvis\n",
            "Successfully installed jedi-0.18.2 pyvis-0.3.1\n"
          ]
        }
      ]
    },
    {
      "cell_type": "code",
      "source": [
        "from pyvis.network import Network\n",
        "#from dash import Dash, html\n",
        "#import dash_cytoscape as cyto\n",
        "unique_organs = list(new_df['page_location'].unique())\n",
        "unique_id = list(new_df['user_pseudo_id'].unique())\n",
        "net1 = Network()\n",
        "net1.repulsion()\n",
        "for i in range(len(unique_organs)):\n",
        "  net1.add_node(i,label=unique_organs[i])\n",
        "\n",
        "#net1=net1\n",
        "#net1.show('nodes.html')"
      ],
      "metadata": {
        "id": "skoX21KksB17"
      },
      "execution_count": null,
      "outputs": []
    },
    {
      "cell_type": "code",
      "source": [
        "elements=[]\n",
        "for i in unique_organs:\n",
        "  elements.append({'data': {'id': i, 'label': i}})"
      ],
      "metadata": {
        "id": "-nC-vhoTsGMn"
      },
      "execution_count": null,
      "outputs": []
    },
    {
      "cell_type": "code",
      "source": [
        "elements = []\n",
        "for i in unique_id:\n",
        "  list_1 = list(new_df[new_df['user_pseudo_id']==i].page_location)\n",
        "  #{'data': {'source': 'ca', 'target': 'on'}},\n",
        "  for m in range(len(list_1)):\n",
        "    for l in range(m+1,len(list_1)):\n",
        "      elements.append([list_1[m],list_1[l]])\n",
        "      #elements.append({'data':{'source':list_1[m],'target':list_1[l]}})"
      ],
      "metadata": {
        "id": "ddgo4K1msVP-"
      },
      "execution_count": null,
      "outputs": []
    },
    {
      "cell_type": "code",
      "source": [
        "connects={}\n",
        "\n",
        "for i in unique_id:\n",
        "  list_1 = list(new_df[new_df['user_pseudo_id']==i].page_location)\n",
        "  #{'data': {'source': 'ca', 'target': 'on'}},\n",
        "  for m in range(len(list_1)):\n",
        "    for l in range(m+1,len(list_1)):\n",
        "      \n",
        "      if list_1[m] not in connects.keys():\n",
        "        connects[list_1[m]]={}\n",
        "      if list_1[l] not in connects[list_1[m]]:\n",
        "        connects[list_1[m]][list_1[l]]=0\n",
        "      #if list\n",
        "      connects[list_1[m]][list_1[l]]+=1\n",
        "      #net1.add_edge(unique_organs.index(list_1[m]), unique_organs.index(list_1[l]))\n",
        "      #elements.append([list_1[m],list_1[l]])\n",
        "      #elements.append({'data':{'source':list_1[m],'target':list_1[l]}})"
      ],
      "metadata": {
        "id": "5aWuALsOsVv4"
      },
      "execution_count": null,
      "outputs": []
    },
    {
      "cell_type": "code",
      "source": [
        "m=0\n",
        "for i in connects.keys():\n",
        "  for j in connects[i].keys():\n",
        "    if i==j:\n",
        "      continue\n",
        "    if connects[i][j]>m:\n",
        "      m=connects[i][j]"
      ],
      "metadata": {
        "id": "eO5qvtssshJE"
      },
      "execution_count": null,
      "outputs": []
    },
    {
      "cell_type": "code",
      "source": [
        "m"
      ],
      "metadata": {
        "colab": {
          "base_uri": "https://localhost:8080/"
        },
        "id": "WKeeOo0Dso8K",
        "outputId": "5070a373-2656-4974-9981-c33ee40d2c14"
      },
      "execution_count": null,
      "outputs": [
        {
          "output_type": "execute_result",
          "data": {
            "text/plain": [
              "75012"
            ]
          },
          "metadata": {},
          "execution_count": 11
        }
      ]
    },
    {
      "cell_type": "code",
      "source": [
        "edges=[]\n",
        "for i in connects.keys():\n",
        "  for j in connects[i].keys():\n",
        "    if i==j:\n",
        "      continue\n",
        "    edges.append([unique_organs.index(i),unique_organs.index(j),(connects[i][j]*10)/m])"
      ],
      "metadata": {
        "id": "ZLWUoHh-sp9d"
      },
      "execution_count": null,
      "outputs": []
    },
    {
      "cell_type": "code",
      "source": [
        "net1.add_edges(edges)"
      ],
      "metadata": {
        "id": "xFnt64hcs1CT"
      },
      "execution_count": null,
      "outputs": []
    },
    {
      "cell_type": "code",
      "source": [
        "net1.show('nodes3.html')"
      ],
      "metadata": {
        "id": "Ag9BOnMMs28p"
      },
      "execution_count": null,
      "outputs": []
    }
  ]
}